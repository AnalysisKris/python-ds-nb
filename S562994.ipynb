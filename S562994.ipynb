{
 "cells": [
  {
   "cell_type": "markdown",
   "metadata": {},
   "source": [
    "# Kristen Finley"
   ]
  },
  {
   "cell_type": "code",
   "execution_count": 3,
   "metadata": {},
   "outputs": [
    {
     "name": "stdout",
     "output_type": "stream",
     "text": [
      "*      *\n",
      "**    **\n",
      "***  ***\n",
      "********\n"
     ]
    }
   ],
   "source": [
    "rows = 4\n",
    "\n",
    "for i in range(1, rows + 1):\n",
    "    # Left half of the pattern\n",
    "    for j in range(1, i + 1):\n",
    "        print('*', end='')\n",
    "    for j in range(1, 2 * rows - 2 * i + 1):\n",
    "        print(' ', end='')\n",
    "    \n",
    "    # Right half of the pattern\n",
    "    for j in range(1, i + 1):\n",
    "        print('*', end='')\n",
    "    \n",
    "    print()"
   ]
  },
  {
   "cell_type": "code",
   "execution_count": 4,
   "metadata": {},
   "outputs": [
    {
     "name": "stdout",
     "output_type": "stream",
     "text": [
      "*      *\n",
      "**    **\n",
      "***  ***\n",
      "********\n"
     ]
    }
   ],
   "source": [
    "rows = 4\n",
    "\n",
    "for i in range(rows):\n",
    "    # Left half of the pattern\n",
    "    for j in range(i + 1):\n",
    "        print('*', end='')\n",
    "    \n",
    "    # Middle space\n",
    "    for j in range(2 * rows - 2 * i - 2):\n",
    "        print(' ', end='')\n",
    "    \n",
    "    # Right half of the pattern\n",
    "    for j in range(i + 1):\n",
    "        print('*', end='')\n",
    "    \n",
    "    print()"
   ]
  }
 ],
 "metadata": {
  "kernelspec": {
   "display_name": "Python 3.11.7 64-bit",
   "language": "python",
   "name": "python3"
  },
  "language_info": {
   "codemirror_mode": {
    "name": "ipython",
    "version": 3
   },
   "file_extension": ".py",
   "mimetype": "text/x-python",
   "name": "python",
   "nbconvert_exporter": "python",
   "pygments_lexer": "ipython3",
   "version": "3.11.7"
  },
  "orig_nbformat": 4,
  "vscode": {
   "interpreter": {
    "hash": "b0fa6594d8f4cbf19f97940f81e996739fb7646882a419484c72d19e05852a7e"
   }
  }
 },
 "nbformat": 4,
 "nbformat_minor": 2
}
